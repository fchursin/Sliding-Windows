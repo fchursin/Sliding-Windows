{
 "cells": [
  {
   "cell_type": "markdown",
   "source": [
    "# Exploring the Sliding Window Algorithm"
   ],
   "metadata": {
    "collapsed": false
   },
   "id": "55f4907d275fd3b1"
  },
  {
   "cell_type": "markdown",
   "source": [
    "## Introduction\n",
    "Greetings, fellow enthusiasts of algorithmic wonders! Today, we embark on a fascinating journey through the realms of the Sliding Window Algorithm. This algorithm isn't just a tool; it's a window (quite literally!) into a world where efficiency meets elegance in problem-solving."
   ],
   "metadata": {
    "collapsed": false
   },
   "id": "687312fc6af74f34"
  },
  {
   "cell_type": "markdown",
   "source": [
    "## What Awaits You?\n",
    "In this Jupyter Notebook, we will unravel the mysteries of the sliding window technique, a strategy quintessential in tackling an array of problems characterized by sequences or continuous blocks of data. Whether it's maximizing a subset, finding unique elements, or handling streaming data, the sliding window algorithm stands as a sentinel of efficiency."
   ],
   "metadata": {
    "collapsed": false
   },
   "id": "a7ac9cc18de2f6dd"
  },
  {
   "cell_type": "markdown",
   "source": [
    "## Why the Sliding Window Algorithm?\n",
    "Imagine you're looking through a telescope. You can only see a part of the sky at a time, but by moving the telescope around, you explore the vastness of the cosmos. That's what the sliding window does with data - it provides a moving view, allowing us to analyze and process information in manageable, dynamic segments."
   ],
   "metadata": {
    "collapsed": false
   },
   "id": "7f3a25a853f11f48"
  },
  {
   "cell_type": "markdown",
   "source": [
    "## Fixed Size Sliding Windows\n",
    "\n"
   ],
   "metadata": {
    "collapsed": false
   },
   "id": "6a4d52229c14756f"
  },
  {
   "cell_type": "markdown",
   "source": [
    "## Dynamic Sliding Windows"
   ],
   "metadata": {
    "collapsed": false
   },
   "id": "e4b34ff0b3c828f3"
  },
  {
   "cell_type": "code",
   "execution_count": null,
   "outputs": [],
   "source": [],
   "metadata": {
    "collapsed": false
   },
   "id": "ec681e7d80192e30"
  },
  {
   "cell_type": "markdown",
   "source": [
    "# Coding Interview Problem\n",
    "\n",
    "Check out this link to a widely recognized coding challenge, [Longest substring without repeating characters](https://leetcode.com/problems/longest-substring-without-repeating-characters/description/), famously used by leading tech companies. This problem is ideally suited for the sliding window algorithm, demonstrating its effectiveness in solving complex tasks!\n",
    "\n",
    "\n",
    "![Companies](/images/companies.png)\n",
    "\n",
    "![Frequency](/images/frequency.png)\n",
    "\n"
   ],
   "metadata": {
    "collapsed": false
   },
   "id": "fbf0ee2b71f3db6a"
  },
  {
   "cell_type": "markdown",
   "source": [
    "I highly recommend giving the sliding window algorithm a try to solve this problem efficiently, aiming for an O(n) time complexity. It's a great exercise to enhance your skills! But don't worry if you hit a roadblock - you can always refer to the solution I've shared below. It's a top performer, outpacing 90% of the submissions on LeetCode!\n",
    "\n",
    "![Solution Runtime](/images/solution_rt.png)"
   ],
   "metadata": {
    "collapsed": false
   },
   "id": "aaba30d46b3c1167"
  },
  {
   "cell_type": "markdown",
   "source": [
    "### Let's go through the algorithm first:\n",
    "\n",
    "1. Base Case: \n",
    "‎ \n",
    "    First, we handle a simple scenario. If string is empty, there are no characters to consider, so the longest non-repeating substring is also of length 0.\n",
    "‎ \n",
    "2. Initialization:\n",
    "‎ \n",
    "    current_window: A list that represents our dynamic sliding window. It's where the magic comes into play.\n",
    "    max_len: An integer to keep track of the maximum length of a non-repeating substring found so far. It starts at 1, considering the case of a single-character string.\n",
    "‎    \n",
    "3. Iterating Through the String:\n",
    "‎ \n",
    "    Each character in string is examined to determine how it affects the current substring.\n",
    "‎    \n",
    "4. Dynamic Sliding Window:\n",
    "‎ \n",
    "    The essence of this algorithm lies in how current_window is adjusted. It's not static but slides as we iterate through the string.\n",
    "‎ \n",
    "    **Adjustment Logic**:\n",
    "    If a character is new (not in current_window), it's simply added. This potentially increases the window's size.\n",
    "‎    \n",
    "    **If a character is a repeat, we first 'slide' the window. This is done by removing elements up to the first occurrence of this repeating character, then adding the new one. This step is crucial as it ensures that our window always contains a unique set of characters.**\n",
    "‎   \n",
    "    **Why It's Efficient: This dynamic adjustment is key. It helps in efficiently finding the longest substring without needing to check each possible substring separately.**\n",
    "‎    \n",
    "5. Updating the Maximum Length:\n",
    "‎     \n",
    "    After each iteration, we update max_len if the length of current_window is greater than the current max_len. This ensures we always have the longest unique substring length by the end.\n",
    "‎ \n",
    "6. Return Value:\n",
    "‎ \n",
    "    Finally, the length of the longest non-repeating substring (max_len) is returned, giving us the desired outcome.\n",
    "\n",
    "### The visualisation shows how the algorithm works\n",
    "![Alg](/images/alg_explanation.png)"
   ],
   "metadata": {
    "collapsed": false
   },
   "id": "48fdbc55a3bb3445"
  },
  {
   "cell_type": "code",
   "execution_count": 1,
   "outputs": [],
   "source": [
    "def length_of_longest_substring(s):\n",
    "        '''\n",
    "        :param s: string \n",
    "        :return: int\n",
    "        '''\n",
    "        \n",
    "    \n",
    "        # 1st step\n",
    "        if len(s) == 0:\n",
    "            return 0\n",
    "        \n",
    "\n",
    "        # 2nd step\n",
    "        current_window = []\n",
    "        max_len = 1\n",
    "        \n",
    "        # 3rd step\n",
    "        for letter in s:\n",
    "            \n",
    "           \n",
    "            # 4th step\n",
    "            if letter in current_window:\n",
    "                current_window = current_window[current_window.index(letter)+1:]\n",
    "            \n",
    "            current_window.append(letter)\n",
    "            \n",
    "            # 5th step\n",
    "            max_len = max(max_len,len(current_window))\n",
    "                \n",
    "        # 6th step\n",
    "        return max_len"
   ],
   "metadata": {
    "collapsed": false,
    "ExecuteTime": {
     "end_time": "2023-11-18T18:05:14.114828Z",
     "start_time": "2023-11-18T18:05:14.112124Z"
    }
   },
   "id": "903f8e372404db1e"
  },
  {
   "cell_type": "markdown",
   "source": [
    "# ML Applications"
   ],
   "metadata": {
    "collapsed": false
   },
   "id": "e2ef2bff1a33efdd"
  },
  {
   "cell_type": "code",
   "execution_count": 1,
   "outputs": [],
   "source": [],
   "metadata": {
    "collapsed": false,
    "ExecuteTime": {
     "end_time": "2023-11-18T18:05:15.332866Z",
     "start_time": "2023-11-18T18:05:15.325105Z"
    }
   },
   "id": "3101fd3a4d08be85"
  }
 ],
 "metadata": {
  "kernelspec": {
   "display_name": "Python 3",
   "language": "python",
   "name": "python3"
  },
  "language_info": {
   "codemirror_mode": {
    "name": "ipython",
    "version": 2
   },
   "file_extension": ".py",
   "mimetype": "text/x-python",
   "name": "python",
   "nbconvert_exporter": "python",
   "pygments_lexer": "ipython2",
   "version": "2.7.6"
  }
 },
 "nbformat": 4,
 "nbformat_minor": 5
}
