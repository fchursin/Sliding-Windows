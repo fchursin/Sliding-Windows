{
 "cells": [
  {
   "cell_type": "markdown",
   "source": [
    "# Exploring the Sliding Window Algorithm\n",
    "\n",
    "©Fedor Chursin GitHub - fchursin"
   ],
   "metadata": {
    "collapsed": false
   },
   "id": "55f4907d275fd3b1"
  },
  {
   "cell_type": "markdown",
   "source": [
    "In this Jupyter Notebook, we will unravel the mysteries of the sliding window algorithm, a strategy quintessential in tackling an array of problems characterized by sequences or continuous blocks of data. Such topics are going to be covered in this notebook:\n",
    "1. Static Size Sliding Window\n",
    "2. Dynamic Size Sliding Window\n",
    "3. Coding Interview Problem from Big Tech Interviews\n",
    "4. ML applications"
   ],
   "metadata": {
    "collapsed": false
   },
   "id": "a7ac9cc18de2f6dd"
  },
  {
   "cell_type": "markdown",
   "source": [
    "## Why the Sliding Window Algorithm?\n",
    "Imagine you're looking through a telescope. You can only see a part of the sky at a time, but by moving the telescope around, you explore the vastness of the cosmos. That's what the sliding window does with data - it provides a moving view, allowing us to analyze and process information in manageable, dynamic segments."
   ],
   "metadata": {
    "collapsed": false
   },
   "id": "7f3a25a853f11f48"
  },
  {
   "cell_type": "markdown",
   "source": [
    "## Fixed Size Sliding Windows\n",
    "\n",
    "Let's explore this algorithm by looking at the classic problem for the constant size sliding window algorithm:\n",
    "\n",
    "### \"Given an array, find sum of all subarrays length k\""
   ],
   "metadata": {
    "collapsed": false
   },
   "id": "6a4d52229c14756f"
  },
  {
   "cell_type": "markdown",
   "source": [
    "### 1st Approach - Brute Force \n",
    "\n",
    "The simplest but not the most effective approach is to iterate through each possible subarray of length k and calculate their sums individually. And here's how you can implement this in Python:"
   ],
   "metadata": {
    "collapsed": false
   },
   "id": "37778f15eeebe7f6"
  },
  {
   "cell_type": "code",
   "execution_count": 1,
   "outputs": [
    {
     "name": "stdout",
     "output_type": "stream",
     "text": [
      "[12, 14, 12, 9, 7, 5]\n"
     ]
    }
   ],
   "source": [
    "def find_subarray_sums(arr, k):\n",
    "    subarray_sums = []\n",
    "\n",
    "    for i in range(len(arr) - k + 1):\n",
    "        \n",
    "        current_sum = 0\n",
    "        for j in range(i, i + k):\n",
    "            current_sum += arr[j]\n",
    "        \n",
    "        subarray_sums.append(current_sum)\n",
    "\n",
    "    return subarray_sums\n",
    "\n",
    "array = [1, 4, 7, 3, 2, 4, 1, 0]\n",
    "k = 3\n",
    "print(find_subarray_sums(array, k)) "
   ],
   "metadata": {
    "collapsed": false,
    "ExecuteTime": {
     "end_time": "2023-11-18T19:57:49.069352Z",
     "start_time": "2023-11-18T19:57:46.264328Z"
    }
   },
   "id": "b82b7db446ad1c75"
  },
  {
   "cell_type": "markdown",
   "source": [
    "This brute force approach has a time complexity of O(n*k), where n is the size of the array. While this solution is straightforward and easy to understand, it is less efficient for large arrays or large values of k."
   ],
   "metadata": {
    "collapsed": false
   },
   "id": "9c9f69c32901c62b"
  },
  {
   "cell_type": "markdown",
   "source": [
    "### 2nd Approach - Static Sliding Window "
   ],
   "metadata": {
    "collapsed": false
   },
   "id": "d3c17104b51e83d"
  },
  {
   "cell_type": "markdown",
   "source": [
    "### Static Sliding Window Key Concepts:\n",
    "\n",
    "**Window:** This is a subset of data you're currently considering. It could be a range of array elements, characters in a string, etc. The window has a certain size or condition that dictates what it includes\n",
    "\n",
    "**Sliding:** The window moves across your data structure, typically one element at a time. With each move, the window captures a new portion of the data while discarding some of the old data.\n",
    "\n",
    "**Efficiency:** The algorithm efficiently reuses computations from the previous window position. Instead of recalculating everything from scratch each time the window moves, it typically updates the calculation based on the change (what's added to and removed from the window).\n",
    "\n",
    "![Static Sliding Window](/images/sliding_window_static.png)"
   ],
   "metadata": {
    "collapsed": false
   },
   "id": "e08629f751d7ef2a"
  },
  {
   "cell_type": "markdown",
   "source": [
    "### Algorithm Steps:\n",
    "\n",
    "1. Initialization:\n",
    "\n",
    "    - Start with the first subarray (first 'k' elements) and calculate its sum. This initial sum represents the sum of the first window.\n",
    "        \n",
    "2. Sliding the Window:\n",
    "\n",
    "    - Move the window one element to the right. This involves:\n",
    "        - Adding the next element in the array (entering the right side of the window).\n",
    "        - Subtracting the element that is no longer in the window (exiting the left side).\n",
    "                \n",
    "3. Repeat:\n",
    "\n",
    "    - Continue this process until the end of the array is reached.\n",
    "    - At each step, calculate and store the sum of the current window.\n",
    "        \n",
    "4. Result:\n",
    "    - The result is a series of sums, each corresponding to a subarray of length 'k'.\n",
    "        "
   ],
   "metadata": {
    "collapsed": false
   },
   "id": "b85c16faa5aa3e6f"
  },
  {
   "cell_type": "code",
   "execution_count": 2,
   "outputs": [
    {
     "name": "stdout",
     "output_type": "stream",
     "text": [
      "[12, 14, 12, 9, 7, 5]\n"
     ]
    }
   ],
   "source": [
    "def find_subarray_sums(arr, k):\n",
    "    curr_sum = sum(arr[:k])\n",
    "    subarray_sums = [curr_sum]\n",
    "   \n",
    "\n",
    "    for i in range(1, len(arr) - k + 1):\n",
    "        \n",
    "        curr_sum = curr_sum - arr[i-1]\n",
    "        curr_sum = curr_sum + arr[i+k-1]\n",
    "        \n",
    "        subarray_sums.append(curr_sum)\n",
    "            \n",
    "\n",
    "    return subarray_sums\n",
    "\n",
    "arr_1 = [1, 4, 7, 3, 2, 4, 1, 0]\n",
    "k = 3\n",
    "print(find_subarray_sums(arr_1, k)) "
   ],
   "metadata": {
    "collapsed": false,
    "ExecuteTime": {
     "end_time": "2023-11-18T19:57:49.070216Z",
     "start_time": "2023-11-18T19:57:46.268904Z"
    }
   },
   "id": "111762695b77b278"
  },
  {
   "cell_type": "markdown",
   "source": [
    "This approach is more efficient as it avoids recalculating the sum for each subarray from scratch. Instead, it updates the sum by considering only the change caused by the sliding window. This results in a time complexity of O(n), where n is the size of the array."
   ],
   "metadata": {
    "collapsed": false
   },
   "id": "f1592e8bb3dc021a"
  },
  {
   "cell_type": "markdown",
   "source": [
    "## Dynamic Sliding Windows\n",
    "\n",
    "The main difference between static size and dynamic size sliding windows lies in how the size of the window is managed while processing the data.\n",
    "\n",
    "**The size of the window can change during the execution of the algorithm. It adjusts based on certain conditions or criteria set by the problem.**\n",
    "\n",
    "Let's explore the dynamic sliding windows algorithm by looking at this problem:\n",
    "\n",
    "### \"Given an array find the shortest subarray with the sum >= k\""
   ],
   "metadata": {
    "collapsed": false
   },
   "id": "e4b34ff0b3c828f3"
  },
  {
   "cell_type": "markdown",
   "source": [
    "We are going to make only a few changes to our algorithms:\n",
    "1. Dynamic Window Size: Unlike the static version, the window in this algorithm is not of a fixed size. Its size adjusts dynamically based on the sum of the elements within the window.\n",
    "\n",
    "2. Two Flexible Pointers: We utilise two pointers, one at the beginning and the other at the end of the array, to define the window's current boundaries. These pointers move independently to expand or contract the window.\n",
    "\n",
    "3. Optimizing the Window: The goal is to first find a window where the sum of its elements is greater than or equal to k. Once such a window is found, we then attempt to shrink it, if possible, to identify the shortest possible subarray that still meets the sum condition."
   ],
   "metadata": {
    "collapsed": false
   },
   "id": "466f5c650c4896a5"
  },
  {
   "cell_type": "code",
   "execution_count": 3,
   "outputs": [
    {
     "name": "stdout",
     "output_type": "stream",
     "text": [
      "2\n"
     ]
    }
   ],
   "source": [
    "def find_shortest_subarray(arr, k):\n",
    "    \n",
    "    min_l = 1000000\n",
    "    \n",
    "    start = 0\n",
    "    current_s = 0\n",
    "    \n",
    "    for end in range(len(arr)):\n",
    "        current_s += arr[end]\n",
    "        \n",
    "        while start < end and current_s >=k:\n",
    "            min_l = min(min_l, end-start + 1)\n",
    "            current_s -= arr[start]\n",
    "            start += 1\n",
    "            \n",
    "    \n",
    "    return min_l\n",
    "\n",
    "arr_1 = [1, 4, 7, 3, 2, 4, 1, 0]\n",
    "k = 8\n",
    "print(find_shortest_subarray(arr_1, k)) "
   ],
   "metadata": {
    "collapsed": false,
    "ExecuteTime": {
     "end_time": "2023-11-18T19:57:49.070359Z",
     "start_time": "2023-11-18T19:57:46.272747Z"
    }
   },
   "id": "ec681e7d80192e30"
  },
  {
   "cell_type": "markdown",
   "source": [
    "This overview should provide a solid foundation for understanding the basics of sliding window algorithms. Now, let's dive into some actual coding!"
   ],
   "metadata": {
    "collapsed": false
   },
   "id": "d70e6b4f9707194c"
  },
  {
   "cell_type": "markdown",
   "source": [
    "# Coding Interview Problem from Big Tech Interviews\n",
    "\n",
    "Check out this link to a widely recognized coding challenge, [Longest substring without repeating characters](https://leetcode.com/problems/longest-substring-without-repeating-characters/description/), famously used by leading tech companies. This problem is ideally suited for the sliding window algorithm, demonstrating its effectiveness in solving complex tasks! Below you can find a list of the Big-Tech companies that used this problem during their coding interviews.\n",
    "\n",
    "\n",
    "![Companies](/images/companies.png)\n",
    "\n",
    "![Frequency](/images/frequency.png)\n",
    "\n"
   ],
   "metadata": {
    "collapsed": false
   },
   "id": "fbf0ee2b71f3db6a"
  },
  {
   "cell_type": "markdown",
   "source": [
    "I highly recommend giving the sliding window algorithm a try to solve this problem efficiently, aiming for an O(n) time complexity. It's a great exercise to enhance your skills! But don't worry if you hit a roadblock - you can always refer to the solution I've shared below. It's a top performer, outpacing 90% of the submissions on LeetCode!\n",
    "\n",
    "![Solution Runtime](/images/solution_rt.png)"
   ],
   "metadata": {
    "collapsed": false
   },
   "id": "aaba30d46b3c1167"
  },
  {
   "cell_type": "markdown",
   "source": [
    "### Let's go through the algorithm first:\n",
    "\n",
    "**1st Step - Base Case:**\n",
    "\n",
    "First, we handle a simple scenario. If the string is empty, there are no characters to consider, so the longest non-repeating substring is also of length 0.\n",
    "\n",
    "**2nd Step - Initialization:**\n",
    "\n",
    "current_window: A list that represents our dynamic sliding window. It's where the magic comes into play.\n",
    "\n",
    "max_len: An integer to keep track of the maximum length of a non-repeating substring found so far. It starts at 1, considering the case of a single-character string.\n",
    "\n",
    "**3rd Step - Iterating Through the String:**\n",
    "\n",
    "Each character in the string is examined to determine how it affects the current substring.\n",
    "\n",
    "**4th Step - Dynamic Sliding Window:**\n",
    "\n",
    "The essence of this algorithm lies in how current_window is adjusted. It's not static but slides as we iterate through the string.\n",
    "\n",
    "**Adjustment Logic**:\n",
    "\n",
    "If a character is new (not in current_window), it's simply added. This potentially increases the window's size.\n",
    "\n",
    "**If a character is a repeat, we first 'slide' the window. This is done by removing elements up to the first occurrence of this repeating character, then adding the new one. This step is crucial as it ensures that our window always contains a unique set of characters.**\n",
    "\n",
    "**Why It's Efficient: This dynamic adjustment is key. It helps in efficiently finding the longest substring without needing to check each possible substring separately.**\n",
    "\n",
    "**5th Step - Updating the Maximum Length:**\n",
    "\n",
    "After each iteration, we update max_len if the length of current_window is greater than the current max_len. This ensures we always have the longest unique substring length by the end.\n",
    "\n",
    "**6th Step - Return Value:**\n",
    "\n",
    "Finally, the length of the longest non-repeating substring (max_len) is returned, giving us the desired outcome.\n",
    "\n",
    "### The visualisation shows how the algorithm works\n",
    "![Alg](/images/alg_explanation.png)"
   ],
   "metadata": {
    "collapsed": false
   },
   "id": "48fdbc55a3bb3445"
  },
  {
   "cell_type": "code",
   "execution_count": 4,
   "outputs": [],
   "source": [
    "def length_of_longest_substring(s):\n",
    "        '''\n",
    "        :param s: string \n",
    "        :return: int\n",
    "        '''\n",
    "        \n",
    "        # 1st step\n",
    "        if len(s) == 0:\n",
    "            return 0\n",
    "    \n",
    "        # 2nd step\n",
    "        current_window = []\n",
    "        max_len = 1\n",
    "        \n",
    "        # 3rd step\n",
    "        for letter in s:\n",
    "            \n",
    "            # 4th step\n",
    "            if letter in current_window:\n",
    "                current_window = current_window[current_window.index(letter)+1:]\n",
    "            \n",
    "            current_window.append(letter)\n",
    "            \n",
    "            # 5th step\n",
    "            max_len = max(max_len,len(current_window))\n",
    "                \n",
    "        # 6th step\n",
    "        return max_len"
   ],
   "metadata": {
    "collapsed": false,
    "ExecuteTime": {
     "end_time": "2023-11-18T19:57:49.070442Z",
     "start_time": "2023-11-18T19:57:46.276085Z"
    }
   },
   "id": "903f8e372404db1e"
  },
  {
   "cell_type": "markdown",
   "source": [
    "# ML Applications\n",
    "\n",
    "Sliding window algorithms play a crucial role in various applications across deep learning and machine learning.\n",
    "\n",
    "Here are areas where this algorithm can be utilised:\n",
    "\n",
    "1. Natural Language Processing (NLP)\n",
    "2. Time Series Analysis\n",
    "3. Computer Vision"
   ],
   "metadata": {
    "collapsed": false
   },
   "id": "e2ef2bff1a33efdd"
  },
  {
   "cell_type": "markdown",
   "source": [
    "## Sliding Windows in Computer Vision\n",
    "\n",
    "- Application: In computer vision, sliding windows are used for object detection, a fundamental task where the algorithm identifies and locates objects within an image.\n",
    "- How it Works: The sliding window moves across the image, and at each position, a classifier (like a Convolutional Neural Network, CNN) predicts whether an object is present in that window. This approach is particularly useful for detecting objects of varying sizes and at different positions in the image.\n",
    "- Evolution: Traditional sliding window approaches have evolved with deep learning. Modern object detection models like Faster R-CNN, YOLO (You Only Look Once), and SSD (Single Shot MultiBox Detector) use region proposal networks or anchor boxes, which can be seen as sophisticated adaptations of the sliding window concept, offering more efficiency and accuracy.\n",
    "\n",
    "![segm](/images/semantic_segmentation.png)"
   ],
   "metadata": {
    "collapsed": false
   },
   "id": "f1f90ebf9e2f12ef"
  },
  {
   "cell_type": "markdown",
   "source": [
    "### In our next notebook, we'll delve deeper into the intersection of computer vision and sliding window techniques, so make sure to stay tuned. Congratulations on mastering the sliding window algorithm! You're now equipped to tackle problems with greater efficiency. What's more, you're ready to take on some of the most popular coding interview challenges posed by major tech companies, which is undoubtedly an impressive feat."
   ],
   "metadata": {
    "collapsed": false
   },
   "id": "bf15c47fa8a9d6f1"
  },
  {
   "cell_type": "code",
   "execution_count": null,
   "outputs": [],
   "source": [],
   "metadata": {
    "collapsed": false,
    "ExecuteTime": {
     "end_time": "2023-11-18T18:27:16.550385Z",
     "start_time": "2023-11-18T18:27:16.541743Z"
    }
   },
   "id": "3101fd3a4d08be85"
  }
 ],
 "metadata": {
  "kernelspec": {
   "display_name": "Python 3",
   "language": "python",
   "name": "python3"
  },
  "language_info": {
   "codemirror_mode": {
    "name": "ipython",
    "version": 2
   },
   "file_extension": ".py",
   "mimetype": "text/x-python",
   "name": "python",
   "nbconvert_exporter": "python",
   "pygments_lexer": "ipython2",
   "version": "2.7.6"
  }
 },
 "nbformat": 4,
 "nbformat_minor": 5
}
