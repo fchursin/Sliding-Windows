{
 "cells": [
  {
   "cell_type": "code",
   "execution_count": null,
   "outputs": [],
   "source": [],
   "metadata": {
    "collapsed": false
   },
   "id": "ec681e7d80192e30"
  },
  {
   "cell_type": "markdown",
   "source": [
    "# Coding Interview Problem\n",
    "\n",
    "Check out this link to a widely recognized coding challenge, [Longest substring without repeating characters](https://leetcode.com/problems/longest-substring-without-repeating-characters/description/), famously used by leading tech companies. This problem is ideally suited for the sliding window algorithm, demonstrating its effectiveness in solving complex tasks!\n",
    "\n",
    "\n",
    "![Companies](/images/companies.png)\n",
    "\n",
    "![Frequency](/images/frequency.png)\n",
    "\n"
   ],
   "metadata": {
    "collapsed": false
   },
   "id": "fbf0ee2b71f3db6a"
  },
  {
   "cell_type": "markdown",
   "source": [
    "I highly recommend giving the sliding window algorithm a try to solve this problem efficiently, aiming for an O(n) time complexity. It's a great exercise to enhance your skills! But don't worry if you hit a roadblock - you can always refer to the solution I've shared below. It's a top performer, outpacing 90% of the submissions on LeetCode!\n",
    "\n",
    "![Solution Runtime](/images/solution_rt.png)"
   ],
   "metadata": {
    "collapsed": false
   },
   "id": "aaba30d46b3c1167"
  },
  {
   "cell_type": "markdown",
   "source": [],
   "metadata": {
    "collapsed": false
   },
   "id": "48fdbc55a3bb3445"
  },
  {
   "cell_type": "code",
   "execution_count": 1,
   "outputs": [],
   "source": [
    "def length_of_longest_substring(s):\n",
    "        \n",
    "        if len(s) == 0:\n",
    "            return 0\n",
    "        \n",
    "        current_window = []\n",
    "        max_len = 1\n",
    "\n",
    "        for letter in s:\n",
    "\n",
    "            if letter in current_window:\n",
    "                current_window = current_window[current_window.index(letter)+1:]\n",
    "            \n",
    "            current_window.append(letter)\n",
    "            max_len = max(max_len,len(current_window))\n",
    "                \n",
    "        return max_len"
   ],
   "metadata": {
    "collapsed": false,
    "ExecuteTime": {
     "end_time": "2023-11-18T14:05:52.972931Z",
     "start_time": "2023-11-18T14:05:52.959770Z"
    }
   },
   "id": "903f8e372404db1e"
  },
  {
   "cell_type": "code",
   "execution_count": null,
   "outputs": [],
   "source": [],
   "metadata": {
    "collapsed": false
   },
   "id": "3101fd3a4d08be85"
  }
 ],
 "metadata": {
  "kernelspec": {
   "display_name": "Python 3",
   "language": "python",
   "name": "python3"
  },
  "language_info": {
   "codemirror_mode": {
    "name": "ipython",
    "version": 2
   },
   "file_extension": ".py",
   "mimetype": "text/x-python",
   "name": "python",
   "nbconvert_exporter": "python",
   "pygments_lexer": "ipython2",
   "version": "2.7.6"
  }
 },
 "nbformat": 4,
 "nbformat_minor": 5
}
